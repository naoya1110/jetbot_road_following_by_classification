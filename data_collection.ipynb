{
  "cells": [
    {
      "cell_type": "markdown",
      "metadata": {
        "id": "XyNIBUAtY5QW"
      },
      "source": [
        "# Road Following by Classification - Data Collection\n",
        "\n"
      ]
    },
    {
      "cell_type": "markdown",
      "metadata": {
        "id": "X6ZmdVs5dXBr"
      },
      "source": [
        "## Introduction\n",
        "\n",
        "In the collision avoidance example, we made the JetBot moving around without collisions by using a CNN model that can distinguish `free` and `broked` situations from camera inputs.\n",
        "\n",
        "In this series of **Road Following by Classification**, we will try to make the JetBot to follow a desired road just by modifying the method we used for the collision avoidance. We will train a CNN model to distinguish `go forward`, `turn left`, `turn right` situations, instead of `free` and `brocked` situations."
      ]
    },
    {
      "cell_type": "markdown",
      "metadata": {
        "id": "Em0cLGAXdccH"
      },
      "source": [
        "## Preparation"
      ]
    },
    {
      "cell_type": "markdown",
      "metadata": {
        "id": "VgtYpQdKY5Qb"
      },
      "source": [
        "### Live Camera Feed\n",
        "Let's create a camera instance and an image widget, and then make a link between them."
      ]
    },
    {
      "cell_type": "code",
      "execution_count": null,
      "metadata": {
        "colab": {
          "referenced_widgets": [
            "a570e926b1bb476b9bfa908ec3307fee"
          ]
        },
        "id": "78FULcqnY5Qc",
        "outputId": "2cea0fb5-49fd-4858-9660-8aa193985c20",
        "scrolled": true
      },
      "outputs": [
        {
          "data": {
            "application/vnd.jupyter.widget-view+json": {
              "model_id": "a570e926b1bb476b9bfa908ec3307fee",
              "version_major": 2,
              "version_minor": 0
            },
            "text/plain": [
              "Image(value=b'\\xff\\xd8\\xff\\xe0\\x00\\x10JFIF\\x00\\x01\\x01\\x00\\x00\\x01\\x00\\x01\\x00\\x00\\xff\\xdb\\x00C\\x00\\x02\\x01\\x0…"
            ]
          },
          "metadata": {},
          "output_type": "display_data"
        }
      ],
      "source": [
        "import traitlets\n",
        "import ipywidgets.widgets as widgets\n",
        "from IPython.display import display\n",
        "from jetbot import Camera, bgr8_to_jpeg\n",
        "\n",
        "camera = Camera.instance(width=224, height=224)\n",
        "\n",
        "image = widgets.Image(format='jpeg', width=224, height=224)  # this width and height doesn't necessarily have to match the camera\n",
        "\n",
        "camera_link = traitlets.dlink((camera, 'value'), (image, 'value'), transform=bgr8_to_jpeg)\n",
        "\n",
        "display(image)"
      ]
    },
    {
      "cell_type": "markdown",
      "metadata": {
        "id": "Tshpi_6TZU_D"
      },
      "source": [
        "### Robot Class Instance\n",
        "Create an instance of `Robot` class named `robot` so that we can contol the JetBot motors."
      ]
    },
    {
      "cell_type": "code",
      "execution_count": null,
      "metadata": {
        "id": "eKIkTXJJY5Qd"
      },
      "outputs": [],
      "source": [
        "from jetbot import Robot\n",
        "robot = Robot()"
      ]
    },
    {
      "cell_type": "markdown",
      "metadata": {
        "id": "zKRSntwJY5Qe"
      },
      "source": [
        "### Data Directories\n",
        "Create directories for accumulating the image data."
      ]
    },
    {
      "cell_type": "code",
      "execution_count": null,
      "metadata": {
        "id": "277HbA3bY5Qe",
        "outputId": "f656c544-b3cc-462a-e899-ae233ff87406"
      },
      "outputs": [
        {
          "name": "stdout",
          "output_type": "stream",
          "text": [
            "Directories not created because they already exist\n"
          ]
        }
      ],
      "source": [
        "import os\n",
        "\n",
        "forward_dir = 'dataset/forward'\n",
        "left_dir = 'dataset/left'\n",
        "right_dir = 'dataset/right'\n",
        "\n",
        "# we have this \"try/except\" statement because these next functions can throw an error if the directories exist already\n",
        "try:\n",
        "    os.makedirs(forward_dir)\n",
        "    os.makedirs(left_dir)\n",
        "    os.makedirs(right_dir)\n",
        "except FileExistsError:\n",
        "    print('Directories not created because they already exist')"
      ]
    },
    {
      "cell_type": "markdown",
      "metadata": {
        "id": "-jiRAKdubrMV"
      },
      "source": [
        "### GUI Controller\n",
        "\n",
        "Create a GUI controller with forward, left and right buttons."
      ]
    },
    {
      "cell_type": "code",
      "execution_count": null,
      "metadata": {
        "colab": {
          "referenced_widgets": [
            "96b794084331460fa3b38b18aed60a87"
          ]
        },
        "id": "VN79QZNnY5Qf",
        "outputId": "273adabc-fbe1-4a4f-d06a-aa8e8a17af78"
      },
      "outputs": [
        {
          "data": {
            "application/vnd.jupyter.widget-view+json": {
              "model_id": "96b794084331460fa3b38b18aed60a87",
              "version_major": 2,
              "version_minor": 0
            },
            "text/plain": [
              "VBox(children=(HBox(children=(Button(description='left', layout=Layout(align_self='center', height='50px', wid…"
            ]
          },
          "metadata": {},
          "output_type": "display_data"
        }
      ],
      "source": [
        "try:\n",
        "    del forward_button\n",
        "    del left_button\n",
        "    del right_button\n",
        "\n",
        "except:\n",
        "    pass\n",
        "\n",
        "# base button layout\n",
        "button_layout = widgets.Layout(width='74px', height='50px', align_self='center')\n",
        "\n",
        "# create counter widgets\n",
        "forward_count = widgets.IntText(layout=button_layout, value=len(os.listdir(forward_dir)))\n",
        "left_count = widgets.IntText(layout=button_layout, value=len(os.listdir(left_dir)))\n",
        "right_count = widgets.IntText(layout=button_layout, value=len(os.listdir(right_dir)))\n",
        "\n",
        "# create acution button widgets\n",
        "forward_button = widgets.Button(description='forward', layout=button_layout)\n",
        "left_button = widgets.Button(description='left', layout=button_layout)\n",
        "right_button = widgets.Button(description='right', layout=button_layout)\n",
        "\n",
        "# layout counters and action button widgets\n",
        "counters = widgets.HBox([left_count, forward_count, right_count])\n",
        "actions = widgets.HBox([left_button, forward_button, right_button])\n",
        "counters_box = widgets.VBox([actions, counters], align_self='center')\n",
        "\n",
        "# display controller box\n",
        "display(counters_box)"
      ]
    },
    {
      "cell_type": "markdown",
      "metadata": {
        "id": "7VrPlBV5bwN5"
      },
      "source": [
        "### Action Functions\n",
        "Define functions to make robot move forward, turn left and turn right. You can change the parameters as you want."
      ]
    },
    {
      "cell_type": "code",
      "execution_count": null,
      "metadata": {
        "id": "6WbGsdBgY5Qg"
      },
      "outputs": [],
      "source": [
        "import time\n",
        "\n",
        "def move_forward():\n",
        "    robot.set_motors(0.3, 0.3)\n",
        "    time.sleep(0.2)\n",
        "    robot.stop()\n",
        "\n",
        "def turn_left():\n",
        "    robot.set_motors(0, 0.3)\n",
        "    time.sleep(0.2)\n",
        "    robot.stop()\n",
        "\n",
        "def turn_right():\n",
        "    robot.set_motors(0.3, 0)\n",
        "    time.sleep(0.2)\n",
        "    robot.stop()"
      ]
    },
    {
      "cell_type": "markdown",
      "metadata": {
        "id": "snR-xqRmb40t"
      },
      "source": [
        "### Data Save Functions\n",
        "Define functions to save snapshots when you make the JetBot to move forward, turn left and turn right."
      ]
    },
    {
      "cell_type": "code",
      "execution_count": null,
      "metadata": {
        "id": "svZXwEEYY5Qi"
      },
      "outputs": [],
      "source": [
        "from uuid import uuid1\n",
        "from datetime import datetime\n",
        "\n",
        "def save_snapshot(directory):\n",
        "    now = datetime.now()\n",
        "    now = now.strftime(\"%Y%m%d_%H%M%S\")\n",
        "    image_path = os.path.join(directory, now + '.jpg')\n",
        "    with open(image_path, 'wb') as f:\n",
        "        f.write(image.value)\n",
        "\n",
        "def save_forward():\n",
        "    global forward_dir, forward_count\n",
        "    save_snapshot(forward_dir)\n",
        "    move_forward()\n",
        "    forward_count.value = len(os.listdir(forward_dir))\n",
        "\n",
        "def save_left():\n",
        "    global left_dir, left_count\n",
        "    save_snapshot(left_dir)\n",
        "    turn_left()\n",
        "    left_count.value = len(os.listdir(left_dir))\n",
        "\n",
        "def save_right():\n",
        "    global right_dir, right_count\n",
        "    save_snapshot(right_dir)\n",
        "    turn_right()\n",
        "    right_count.value = len(os.listdir(right_dir))\n",
        "\n",
        "    \n",
        "# attach the callbacks, we use a 'lambda' function to ignore the\n",
        "# parameter that the on_click event would provide to our function\n",
        "# because we don't need it.\n",
        "forward_button.on_click(lambda x: save_forward())\n",
        "left_button.on_click(lambda x: save_left())\n",
        "right_button.on_click(lambda x: save_right())"
      ]
    },
    {
      "cell_type": "markdown",
      "metadata": {
        "id": "zr3-M1tMcJLw"
      },
      "source": [
        "## Data Collection\n",
        "\n",
        "Now we are ready to perform the data collection."
      ]
    },
    {
      "cell_type": "code",
      "execution_count": null,
      "metadata": {
        "colab": {
          "referenced_widgets": [
            "cb3a1fdd7859430a83a4c455ea91e50f"
          ]
        },
        "id": "Un2_CM-CY5Qi",
        "outputId": "d5b4d848-70fb-47fd-c19e-5e33a6960860"
      },
      "outputs": [
        {
          "data": {
            "application/vnd.jupyter.widget-view+json": {
              "model_id": "cb3a1fdd7859430a83a4c455ea91e50f",
              "version_major": 2,
              "version_minor": 0
            },
            "text/plain": [
              "VBox(children=(Image(value=b'\\xff\\xd8\\xff\\xe0\\x00\\x10JFIF\\x00\\x01\\x01\\x00\\x00\\x01\\x00\\x01\\x00\\x00\\xff\\xdb\\x00C…"
            ]
          },
          "metadata": {},
          "output_type": "display_data"
        }
      ],
      "source": [
        "display(widgets.VBox([image, counters_box]))"
      ]
    },
    {
      "cell_type": "markdown",
      "metadata": {
        "id": "8cqpL07gcNZH"
      },
      "source": [
        "## Stop Camera\n",
        "After you finished the data collection, stop the camera."
      ]
    },
    {
      "cell_type": "code",
      "execution_count": null,
      "metadata": {
        "id": "A7VxIXqnY5Qj"
      },
      "outputs": [],
      "source": [
        "camera.stop()"
      ]
    },
    {
      "cell_type": "markdown",
      "metadata": {
        "id": "lsRCB7L2Y5Qj"
      },
      "source": [
        "## Zip Dataset\n",
        "Make `dataset` directory to `dataset.zip` so that we can upload it to Google Colab for training a model."
      ]
    },
    {
      "cell_type": "code",
      "execution_count": null,
      "metadata": {
        "id": "ilWW5zFpY5Qk"
      },
      "outputs": [],
      "source": [
        "!zip -r -q dataset.zip dataset"
      ]
    },
    {
      "cell_type": "markdown",
      "metadata": {
        "id": "DQtVqCMKuhlX"
      },
      "source": [
        "\n",
        "---"
      ]
    },
    {
      "cell_type": "markdown",
      "metadata": {
        "id": "YT25ppWEY5Qk"
      },
      "source": [
        "## ***(Danger!!) Delete All Dataset***\n",
        "\n",
        "Next commands delete all of your collected data in the ``dataset`` directory."
      ]
    },
    {
      "cell_type": "code",
      "execution_count": null,
      "metadata": {
        "id": "K2CEfkSqY5Qk"
      },
      "outputs": [],
      "source": [
        "# import shutil\n",
        "# shutil.rmtree(\"dataset\")"
      ]
    }
  ],
  "metadata": {
    "colab": {
      "collapsed_sections": [],
      "name": "data_collection.ipynb",
      "provenance": []
    },
    "kernelspec": {
      "display_name": "Python 3",
      "language": "python",
      "name": "python3"
    },
    "language_info": {
      "codemirror_mode": {
        "name": "ipython",
        "version": 3
      },
      "file_extension": ".py",
      "mimetype": "text/x-python",
      "name": "python",
      "nbconvert_exporter": "python",
      "pygments_lexer": "ipython3",
      "version": "3.6.9"
    }
  },
  "nbformat": 4,
  "nbformat_minor": 0
}
